{
 "cells": [
  {
   "cell_type": "markdown",
   "id": "6a86cc19",
   "metadata": {},
   "source": [
    "# House Prices Prediction using TensorFlow Decision Forests\n",
    "\n",
    "This notebook walks you through how to train a baseline Random Forest model using TensorFlow Decision Forests on the House Prices dataset made available for this competition.\n",
    "\n",
    "**Why TensorFlow ?**\n",
    "`TensorFlow` is more suited for deep learning tasks, especially when dealing with large datasets and complex neural network architectures, while scikit-learn is ideal for traditional machine learning tasks and algorithms. "
   ]
  },
  {
   "cell_type": "markdown",
   "id": "5b595e80",
   "metadata": {},
   "source": [
    "<span style=\"font-family:cursive; font-size:36px;box-shadow: black  0px 3px 15px; padding:8px 16px; border-radius:10px; border: 2px solid black; font-weight:bold; text-shadow: 2px 2px 5px rgba(4, 2, 0, 0.5); color:;\"> 1 | <span style=\"color:black ; font-style: italic;\">Import Library </span> "
   ]
  },
  {
   "cell_type": "code",
   "execution_count": 1,
   "id": "abe6c13e",
   "metadata": {},
   "outputs": [
    {
     "ename": "ModuleNotFoundError",
     "evalue": "No module named 'tensorflow_decision_forests'",
     "output_type": "error",
     "traceback": [
      "\u001b[1;31m---------------------------------------------------------------------------\u001b[0m",
      "\u001b[1;31mModuleNotFoundError\u001b[0m                       Traceback (most recent call last)",
      "Cell \u001b[1;32mIn[1], line 2\u001b[0m\n\u001b[0;32m      1\u001b[0m \u001b[38;5;28;01mimport\u001b[39;00m \u001b[38;5;21;01mtensorflow\u001b[39;00m \u001b[38;5;28;01mas\u001b[39;00m \u001b[38;5;21;01mtf\u001b[39;00m\n\u001b[1;32m----> 2\u001b[0m \u001b[38;5;28;01mimport\u001b[39;00m \u001b[38;5;21;01mtensorflow_decision_forests\u001b[39;00m \u001b[38;5;28;01mas\u001b[39;00m \u001b[38;5;21;01mtfdf\u001b[39;00m\n\u001b[0;32m      3\u001b[0m \u001b[38;5;28;01mimport\u001b[39;00m \u001b[38;5;21;01mpandas\u001b[39;00m \u001b[38;5;28;01mas\u001b[39;00m \u001b[38;5;21;01mpd\u001b[39;00m\n\u001b[0;32m      4\u001b[0m \u001b[38;5;28;01mimport\u001b[39;00m \u001b[38;5;21;01mseaborn\u001b[39;00m \u001b[38;5;28;01mas\u001b[39;00m \u001b[38;5;21;01msns\u001b[39;00m\n",
      "\u001b[1;31mModuleNotFoundError\u001b[0m: No module named 'tensorflow_decision_forests'"
     ]
    }
   ],
   "source": [
    "import tensorflow as tf\n",
    "import tensorflow_decision_forests as tfdf\n",
    "import pandas as pd\n",
    "import seaborn as sns\n",
    "import matplotlib.pyplot as plt"
   ]
  },
  {
   "cell_type": "code",
   "execution_count": null,
   "id": "d860f3d1",
   "metadata": {},
   "outputs": [],
   "source": [
    "pip install tensorflow_decision_forests"
   ]
  },
  {
   "cell_type": "code",
   "execution_count": 5,
   "id": "be850902",
   "metadata": {},
   "outputs": [
    {
     "name": "stdout",
     "output_type": "stream",
     "text": [
      "Defaulting to user installation because normal site-packages is not writeable\n",
      "Requirement already satisfied: pip in c:\\users\\kunwa\\appdata\\roaming\\python\\python311\\site-packages (23.3.1)\n",
      "Collecting pip\n",
      "  Downloading pip-24.0-py3-none-any.whl.metadata (3.6 kB)\n",
      "Downloading pip-24.0-py3-none-any.whl (2.1 MB)\n",
      "   ---------------------------------------- 0.0/2.1 MB ? eta -:--:--\n",
      "    --------------------------------------- 0.0/2.1 MB 1.4 MB/s eta 0:00:02\n",
      "   - -------------------------------------- 0.1/2.1 MB 1.3 MB/s eta 0:00:02\n",
      "   --- ------------------------------------ 0.2/2.1 MB 1.3 MB/s eta 0:00:02\n",
      "   ------ --------------------------------- 0.4/2.1 MB 2.0 MB/s eta 0:00:01\n",
      "   ------------ --------------------------- 0.7/2.1 MB 3.0 MB/s eta 0:00:01\n",
      "   ------------------- -------------------- 1.0/2.1 MB 3.9 MB/s eta 0:00:01\n",
      "   ---------------------------- ----------- 1.5/2.1 MB 5.0 MB/s eta 0:00:01\n",
      "   ---------------------------------------  2.1/2.1 MB 5.8 MB/s eta 0:00:01\n",
      "   ---------------------------------------- 2.1/2.1 MB 5.8 MB/s eta 0:00:00\n",
      "Installing collected packages: pip\n",
      "  Attempting uninstall: pip\n",
      "    Found existing installation: pip 23.3.1\n",
      "    Uninstalling pip-23.3.1:\n",
      "      Successfully uninstalled pip-23.3.1\n",
      "Successfully installed pip-24.0\n",
      "Note: you may need to restart the kernel to use updated packages.\n"
     ]
    },
    {
     "name": "stderr",
     "output_type": "stream",
     "text": [
      "  WARNING: The scripts pip.exe, pip3.11.exe and pip3.exe are installed in 'C:\\Users\\Kunwa\\AppData\\Roaming\\Python\\Python311\\Scripts' which is not on PATH.\n",
      "  Consider adding this directory to PATH or, if you prefer to suppress this warning, use --no-warn-script-location.\n"
     ]
    }
   ],
   "source": [
    "pip install --upgrade pip"
   ]
  },
  {
   "cell_type": "code",
   "execution_count": null,
   "id": "e8f8e250",
   "metadata": {},
   "outputs": [],
   "source": []
  }
 ],
 "metadata": {
  "kernelspec": {
   "display_name": "Python 3 (ipykernel)",
   "language": "python",
   "name": "python3"
  },
  "language_info": {
   "codemirror_mode": {
    "name": "ipython",
    "version": 3
   },
   "file_extension": ".py",
   "mimetype": "text/x-python",
   "name": "python",
   "nbconvert_exporter": "python",
   "pygments_lexer": "ipython3",
   "version": "3.11.2"
  }
 },
 "nbformat": 4,
 "nbformat_minor": 5
}
