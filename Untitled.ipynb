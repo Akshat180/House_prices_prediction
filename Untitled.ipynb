{
 "cells": [
  {
   "cell_type": "code",
   "execution_count": null,
   "id": "d4197492",
   "metadata": {},
   "outputs": [],
   "source": [
    "from sklearn.exceptions import DataConversionWarning\n",
    "\n",
    "# Ignore the specific DataConversionWarning\n",
    "warnings.filterwarnings(\"ignore\", category=DataConversionWarning)\n",
    "features_to_oe= [ 'Street', 'Alley', 'CentralAir', 'MSSubClass', 'OverallCond','FireplaceQu', 'BsmtQual', 'BsmtCond', 'GarageQual', 'GarageCond', \n",
    "        'ExterQual', 'ExterCond','HeatingQC', 'KitchenQual', 'BsmtFinType1', \n",
    "        'BsmtFinType2', 'Functional', 'BsmtExposure', 'GarageFinish', 'LandSlope',\n",
    "        'LotShape', 'PavedDrive', \n",
    "        'YrSold', 'MoSold']\n",
    "from sklearn.preprocessing import LabelEncoder\n",
    "oe=LabelEncoder()\n",
    "for col in features_to_oe:\n",
    "     df[col]=oe.fit_transform(df[col].values.reshape(-1, 1))"
   ]
  },
  {
   "cell_type": "code",
   "execution_count": null,
   "id": "d94ed3d5",
   "metadata": {},
   "outputs": [],
   "source": [
    "Categorical_column = list(df.select_dtypes(include = 'object').columns)\n",
    "df = pd.get_dummies(df, columns = Categorical_column, dtype = int)"
   ]
  },
  {
   "cell_type": "code",
   "execution_count": null,
   "id": "418cab32",
   "metadata": {},
   "outputs": [],
   "source": [
    "import pandas as pd\n",
    "import numpy as np\n",
    "from sklearn.model_selection import train_test_split, GridSearchCV\n",
    "from sklearn.linear_model import LinearRegression, Ridge, Lasso\n",
    "from sklearn.preprocessing import StandardScaler\n",
    "from sklearn.pipeline import Pipeline\n",
    "from sklearn.metrics import mean_squared_error\n",
    "\n",
    "# Step 1: Load and preprocess data\n",
    "# Assuming your data is in a DataFrame named df with 'SalePrice' as the target\n",
    "X = df.drop(columns=['SalePrice'])\n",
    "y = df['SalePrice']\n",
    "\n",
    "# Split data into training and testing sets\n",
    "X_train, X_test, y_train, y_test = train_test_split(X, y, test_size=0.2, random_state=42)\n",
    "\n",
    "# Step 2: Set up the pipeline and parameter grid\n",
    "pipeline = Pipeline([\n",
    "    ('scaler', StandardScaler()),  # Feature scaling\n",
    "    ('model', LinearRegression())  # Placeholder for the model\n",
    "])\n",
    "\n",
    "param_grid = [\n",
    "    {'model': [LinearRegression()]},\n",
    "    {'model': [Ridge()], 'model__alpha': [0.1, 1.0, 10.0, 100.0]},\n",
    "    {'model': [Lasso()], 'model__alpha': [0.1, 1.0, 10.0, 100.0]}\n",
    "]\n",
    "\n",
    "# Step 3: Perform Grid Search\n",
    "grid_search = GridSearchCV(pipeline, param_grid, cv=5, scoring='neg_mean_squared_error', n_jobs=-1)\n",
    "grid_search.fit(X_train, y_train)\n",
    "\n",
    "# Best model and parameters\n",
    "best_model = grid_search.best_estimator_\n",
    "best_params = grid_search.best_params_\n",
    "\n",
    "print(f\"Best model: {best_model}\")\n",
    "print(f\"Best parameters: {best_params}\")\n",
    "\n",
    "# Step 4: Evaluate the best model on the test set\n",
    "y_pred = best_model.predict(X_test)\n",
    "mse = mean_squared_error(y_test, y_pred)\n",
    "print(f\"Mean Squared Error on the test set: {mse}\")\n",
    "\n",
    "# Optional: Convert predictions\n"
   ]
  }
 ],
 "metadata": {
  "kernelspec": {
   "display_name": "Python 3 (ipykernel)",
   "language": "python",
   "name": "python3"
  },
  "language_info": {
   "codemirror_mode": {
    "name": "ipython",
    "version": 3
   },
   "file_extension": ".py",
   "mimetype": "text/x-python",
   "name": "python",
   "nbconvert_exporter": "python",
   "pygments_lexer": "ipython3",
   "version": "3.11.2"
  }
 },
 "nbformat": 4,
 "nbformat_minor": 5
}
